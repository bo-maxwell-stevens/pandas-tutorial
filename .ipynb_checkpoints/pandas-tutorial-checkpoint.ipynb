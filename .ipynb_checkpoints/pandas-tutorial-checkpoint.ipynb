{
 "metadata": {
  "name": "",
  "signature": "sha256:59bd23b4f642754057980a45dc90cfb94f2d3f2db53dcf73be39ff08d3d0de99"
 },
 "nbformat": 3,
 "nbformat_minor": 0,
 "worksheets": [
  {
   "cells": [
    {
     "cell_type": "code",
     "collapsed": false,
     "input": [
      "import pandas as pd\n",
      "\n",
      "# Set some Pandas options\n",
      "pd.set_option('html', False)\n",
      "pd.set_option('max_columns', 30)\n",
      "pd.set_option('max_rows', 20)"
     ],
     "language": "python",
     "metadata": {},
     "outputs": [],
     "prompt_number": 3
    },
    {
     "cell_type": "code",
     "collapsed": false,
     "input": [
      "counts = pd.Series([5, 2, 0, 11])\n",
      "counts"
     ],
     "language": "python",
     "metadata": {},
     "outputs": [
      {
       "metadata": {},
       "output_type": "pyout",
       "prompt_number": 5,
       "text": [
        "0     5\n",
        "1     2\n",
        "2     0\n",
        "3    11\n",
        "dtype: int64"
       ]
      }
     ],
     "prompt_number": 5
    },
    {
     "cell_type": "code",
     "collapsed": false,
     "input": [
      "counts.values"
     ],
     "language": "python",
     "metadata": {},
     "outputs": [
      {
       "metadata": {},
       "output_type": "pyout",
       "prompt_number": 6,
       "text": [
        "array([ 5,  2,  0, 11])"
       ]
      }
     ],
     "prompt_number": 6
    },
    {
     "cell_type": "code",
     "collapsed": false,
     "input": [
      "counts.index"
     ],
     "language": "python",
     "metadata": {},
     "outputs": [
      {
       "metadata": {},
       "output_type": "pyout",
       "prompt_number": 8,
       "text": [
        "Int64Index([0, 1, 2, 3], dtype='int64')"
       ]
      }
     ],
     "prompt_number": 8
    },
    {
     "cell_type": "code",
     "collapsed": false,
     "input": [
      "bacteria = pd.Series([632, 1638, 569, 115], \n",
      "    index=['Firmicutes', 'Proteobacteria', 'Actinobacteria', 'Bacteroidetes'])\n",
      "\n",
      "bacteria"
     ],
     "language": "python",
     "metadata": {},
     "outputs": [
      {
       "metadata": {},
       "output_type": "pyout",
       "prompt_number": 10,
       "text": [
        "Firmicutes         632\n",
        "Proteobacteria    1638\n",
        "Actinobacteria     569\n",
        "Bacteroidetes      115\n",
        "dtype: int64"
       ]
      }
     ],
     "prompt_number": 10
    },
    {
     "cell_type": "code",
     "collapsed": false,
     "input": [
      "bacteria['Actinobacteria']"
     ],
     "language": "python",
     "metadata": {},
     "outputs": [
      {
       "metadata": {},
       "output_type": "pyout",
       "prompt_number": 11,
       "text": [
        "569"
       ]
      }
     ],
     "prompt_number": 11
    },
    {
     "cell_type": "code",
     "collapsed": false,
     "input": [
      "help(pd.TimeGrouper)"
     ],
     "language": "python",
     "metadata": {},
     "outputs": [
      {
       "output_type": "stream",
       "stream": "stdout",
       "text": [
        "Help on class TimeGrouper in module pandas.tseries.resample:\n",
        "\n",
        "class TimeGrouper(pandas.core.groupby.Grouper)\n",
        " |  Custom groupby class for time-interval grouping\n",
        " |  \n",
        " |  Parameters\n",
        " |  ----------\n",
        " |  freq : pandas date offset or offset alias for identifying bin edges\n",
        " |  closed : closed end of interval; left or right\n",
        " |  label : interval boundary to use for labeling; left or right\n",
        " |  nperiods : optional, integer\n",
        " |  convention : {'start', 'end', 'e', 's'}\n",
        " |      If axis is PeriodIndex\n",
        " |  \n",
        " |  Notes\n",
        " |  -----\n",
        " |  Use begin, end, nperiods to generate intervals that cannot be derived\n",
        " |  directly from the associated object\n",
        " |  \n",
        " |  Method resolution order:\n",
        " |      TimeGrouper\n",
        " |      pandas.core.groupby.Grouper\n",
        " |      __builtin__.object\n",
        " |  \n",
        " |  Methods defined here:\n",
        " |  \n",
        " |  __init__(self, freq='Min', closed=None, label=None, how='mean', nperiods=None, axis=0, fill_method=None, limit=None, loffset=None, kind=None, convention=None, base=0, **kwargs)\n",
        " |  \n",
        " |  resample(self, obj)\n",
        " |  \n",
        " |  ----------------------------------------------------------------------\n",
        " |  Static methods inherited from pandas.core.groupby.Grouper:\n",
        " |  \n",
        " |  __new__(cls, *args, **kwargs)\n",
        " |  \n",
        " |  ----------------------------------------------------------------------\n",
        " |  Data descriptors inherited from pandas.core.groupby.Grouper:\n",
        " |  \n",
        " |  __dict__\n",
        " |      dictionary for instance variables (if defined)\n",
        " |  \n",
        " |  __weakref__\n",
        " |      list of weak references to the object (if defined)\n",
        " |  \n",
        " |  ax\n",
        " |  \n",
        " |  groups\n",
        "\n"
       ]
      }
     ],
     "prompt_number": 13
    },
    {
     "cell_type": "code",
     "collapsed": false,
     "input": [
      "help(pd.groupby)"
     ],
     "language": "python",
     "metadata": {},
     "outputs": [
      {
       "output_type": "stream",
       "stream": "stdout",
       "text": [
        "Help on function groupby in module pandas.core.groupby:\n",
        "\n",
        "groupby(obj, by, **kwds)\n",
        "    Class for grouping and aggregating relational data. See aggregate,\n",
        "    transform, and apply functions on this object.\n",
        "    \n",
        "    It's easiest to use obj.groupby(...) to use GroupBy, but you can also do:\n",
        "    \n",
        "    ::\n",
        "    \n",
        "        grouped = groupby(obj, ...)\n",
        "    \n",
        "    Parameters\n",
        "    ----------\n",
        "    obj : pandas object\n",
        "    axis : int, default 0\n",
        "    level : int, default None\n",
        "        Level of MultiIndex\n",
        "    groupings : list of Grouping objects\n",
        "        Most users should ignore this\n",
        "    exclusions : array-like, optional\n",
        "        List of columns to exclude\n",
        "    name : string\n",
        "        Most users should ignore this\n",
        "    \n",
        "    Notes\n",
        "    -----\n",
        "    After grouping, see aggregate, apply, and transform functions. Here are\n",
        "    some other brief notes about usage. When grouping by multiple groups, the\n",
        "    result index will be a MultiIndex (hierarchical) by default.\n",
        "    \n",
        "    Iteration produces (key, group) tuples, i.e. chunking the data by group. So\n",
        "    you can write code like:\n",
        "    \n",
        "    ::\n",
        "    \n",
        "        grouped = obj.groupby(keys, axis=axis)\n",
        "        for key, group in grouped:\n",
        "            # do something with the data\n",
        "    \n",
        "    Function calls on GroupBy, if not specially implemented, \"dispatch\" to the\n",
        "    grouped data. So if you group a DataFrame and wish to invoke the std()\n",
        "    method on each group, you can simply do:\n",
        "    \n",
        "    ::\n",
        "    \n",
        "        df.groupby(mapper).std()\n",
        "    \n",
        "    rather than\n",
        "    \n",
        "    ::\n",
        "    \n",
        "        df.groupby(mapper).aggregate(np.std)\n",
        "    \n",
        "    You can pass arguments to these \"wrapped\" functions, too.\n",
        "    \n",
        "    See the online documentation for full exposition on these topics and much\n",
        "    more\n",
        "    \n",
        "    Returns\n",
        "    -------\n",
        "    **Attributes**\n",
        "    groups : dict\n",
        "        {group name -> group labels}\n",
        "    len(grouped) : int\n",
        "        Number of groups\n",
        "\n"
       ]
      }
     ],
     "prompt_number": 16
    },
    {
     "cell_type": "code",
     "collapsed": false,
     "input": [
      "df.index.nlevels "
     ],
     "language": "python",
     "metadata": {},
     "outputs": [
      {
       "ename": "NameError",
       "evalue": "name 'df' is not defined",
       "output_type": "pyerr",
       "traceback": [
        "\u001b[1;31m---------------------------------------------------------------------------\u001b[0m\n\u001b[1;31mNameError\u001b[0m                                 Traceback (most recent call last)",
        "\u001b[1;32m<ipython-input-17-477eeed333de>\u001b[0m in \u001b[0;36m<module>\u001b[1;34m()\u001b[0m\n\u001b[1;32m----> 1\u001b[1;33m \u001b[0mdf\u001b[0m\u001b[1;33m.\u001b[0m\u001b[0mindex\u001b[0m\u001b[1;33m.\u001b[0m\u001b[0mnlevels\u001b[0m\u001b[1;33m\u001b[0m\u001b[0m\n\u001b[0m",
        "\u001b[1;31mNameError\u001b[0m: name 'df' is not defined"
       ]
      }
     ],
     "prompt_number": 17
    },
    {
     "cell_type": "code",
     "collapsed": false,
     "input": [],
     "language": "python",
     "metadata": {},
     "outputs": []
    }
   ],
   "metadata": {}
  }
 ]
}