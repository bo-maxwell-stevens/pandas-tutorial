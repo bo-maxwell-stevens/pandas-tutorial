{
 "metadata": {
  "name": ""
 },
 "nbformat": 3,
 "nbformat_minor": 0,
 "worksheets": [
  {
   "cells": [
    {
     "cell_type": "markdown",
     "metadata": {},
     "source": [
      "# Introduction to Pandas\n",
      "\n",
      "**pandas** is a Python package providing fast, flexible, and expressive data structures designed to work with *relational* or *labeled* data both. It is a fundamental high-level building block for doing practical, real world data analysis in Python. \n",
      "\n",
      "pandas is well suited for:\n",
      "\n",
      "- Tabular data with heterogeneously-typed columns, as in an SQL table or Excel spreadsheet\n",
      "- Ordered and unordered (not necessarily fixed-frequency) time series data.\n",
      "- Arbitrary matrix data (homogeneously typed or heterogeneous) with row and column labels\n",
      "- Any other form of observational / statistical data sets. The data actually need not be labeled at all to be placed into a pandas data structure\n",
      "\n",
      "\n",
      "Key features:\n",
      "    \n",
      "- Easy handling of **missing data**\n",
      "- **Size mutability**: columns can be inserted and deleted from DataFrame and higher dimensional objects\n",
      "- Automatic and explicit **data alignment**: objects can be explicitly aligned to a set of labels, or the data can be aligned automatically\n",
      "- Powerful, flexible **group by functionality** to perform split-apply-combine operations on data sets\n",
      "- Intelligent label-based **slicing, fancy indexing, and subsetting** of large data sets\n",
      "- Intuitive **merging and joining** data sets\n",
      "- Flexible **reshaping and pivoting** of data sets\n",
      "- **Hierarchical labeling** of axes\n",
      "- Robust **IO tools** for loading data from flat files, Excel files, databases, and HDF5\n",
      "- **Time series functionality**: date range generation and frequency conversion, moving window statistics, moving window linear regressions, date shifting and lagging, etc."
     ]
    },
    {
     "cell_type": "code",
     "collapsed": false,
     "input": [
      "from IPython.core.display import HTML\n",
      "HTML(\"<iframe src=http://pandas.pydata.org width=800 height=350></iframe>\")"
     ],
     "language": "python",
     "metadata": {},
     "outputs": [
      {
       "html": [
        "<iframe src=http://pandas.pydata.org width=800 height=350></iframe>"
       ],
       "metadata": {},
       "output_type": "pyout",
       "prompt_number": 1,
       "text": [
        "<IPython.core.display.HTML at 0x10530f950>"
       ]
      }
     ],
     "prompt_number": 1
    },
    {
     "cell_type": "code",
     "collapsed": false,
     "input": [
      "import pandas as pd\n",
      "\n",
      "# Set some Pandas options\n",
      "pd.set_option('html', False)\n",
      "pd.set_option('max_columns', 30)\n",
      "pd.set_option('max_rows', 20)"
     ],
     "language": "python",
     "metadata": {},
     "outputs": [],
     "prompt_number": 2
    },
    {
     "cell_type": "markdown",
     "metadata": {},
     "source": [
      "## Pandas Data Structures"
     ]
    },
    {
     "cell_type": "markdown",
     "metadata": {},
     "source": [
      "### Series\n",
      "\n",
      "A **Series** is a single vector of data (like a NumPy array) with an *index* that labels each element in the vector."
     ]
    },
    {
     "cell_type": "code",
     "collapsed": false,
     "input": [
      "counts = pd.Series([632, 1638, 569, 115])\n",
      "counts"
     ],
     "language": "python",
     "metadata": {},
     "outputs": [
      {
       "metadata": {},
       "output_type": "pyout",
       "prompt_number": 3,
       "text": [
        "0     632\n",
        "1    1638\n",
        "2     569\n",
        "3     115\n",
        "dtype: int64"
       ]
      }
     ],
     "prompt_number": 3
    },
    {
     "cell_type": "markdown",
     "metadata": {},
     "source": [
      "If an index is not specified, a default sequence of integers is assigned as the index. A NumPy array comprises the values of the `Series`, while the index is a pandas `Index` object."
     ]
    },
    {
     "cell_type": "code",
     "collapsed": false,
     "input": [
      "counts.values"
     ],
     "language": "python",
     "metadata": {},
     "outputs": [
      {
       "metadata": {},
       "output_type": "pyout",
       "prompt_number": 4,
       "text": [
        "array([ 632, 1638,  569,  115])"
       ]
      }
     ],
     "prompt_number": 4
    },
    {
     "cell_type": "code",
     "collapsed": false,
     "input": [
      "counts.index"
     ],
     "language": "python",
     "metadata": {},
     "outputs": [
      {
       "metadata": {},
       "output_type": "pyout",
       "prompt_number": 5,
       "text": [
        "Int64Index([0, 1, 2, 3], dtype=int64)"
       ]
      }
     ],
     "prompt_number": 5
    },
    {
     "cell_type": "markdown",
     "metadata": {},
     "source": [
      "We can assign meaningful labels to the index, if they are available:"
     ]
    },
    {
     "cell_type": "code",
     "collapsed": false,
     "input": [
      "bacteria = pd.Series([632, 1638, 569, 115], \n",
      "    index=['Firmicutes', 'Proteobacteria', 'Actinobacteria', 'Bacteroidetes'])\n",
      "\n",
      "bacteria"
     ],
     "language": "python",
     "metadata": {},
     "outputs": [
      {
       "metadata": {},
       "output_type": "pyout",
       "prompt_number": 6,
       "text": [
        "Firmicutes         632\n",
        "Proteobacteria    1638\n",
        "Actinobacteria     569\n",
        "Bacteroidetes      115\n",
        "dtype: int64"
       ]
      }
     ],
     "prompt_number": 6
    },
    {
     "cell_type": "markdown",
     "metadata": {},
     "source": [
      "These labels can be used to refer to the values in the `Series`."
     ]
    },
    {
     "cell_type": "code",
     "collapsed": false,
     "input": [
      "bacteria['Actinobacteria']"
     ],
     "language": "python",
     "metadata": {},
     "outputs": [
      {
       "metadata": {},
       "output_type": "pyout",
       "prompt_number": 8,
       "text": [
        "569"
       ]
      }
     ],
     "prompt_number": 8
    },
    {
     "cell_type": "code",
     "collapsed": false,
     "input": [
      "bacteria[[name.endswith('bacteria') for name in bacteria.index]]"
     ],
     "language": "python",
     "metadata": {},
     "outputs": [
      {
       "metadata": {},
       "output_type": "pyout",
       "prompt_number": 9,
       "text": [
        "Proteobacteria    1638\n",
        "Actinobacteria     569\n",
        "dtype: int64"
       ]
      }
     ],
     "prompt_number": 9
    },
    {
     "cell_type": "code",
     "collapsed": false,
     "input": [
      "[name.endswith('bacteria') for name in bacteria.index]"
     ],
     "language": "python",
     "metadata": {},
     "outputs": [
      {
       "metadata": {},
       "output_type": "pyout",
       "prompt_number": 10,
       "text": [
        "[False, True, True, False]"
       ]
      }
     ],
     "prompt_number": 10
    },
    {
     "cell_type": "markdown",
     "metadata": {},
     "source": [
      "Notice that the indexing operation preserved the association between the values and the corresponding indices.\n",
      "\n",
      "We can still use positional indexing if we wish."
     ]
    },
    {
     "cell_type": "code",
     "collapsed": false,
     "input": [
      "bacteria[0]"
     ],
     "language": "python",
     "metadata": {},
     "outputs": [
      {
       "metadata": {},
       "output_type": "pyout",
       "prompt_number": 11,
       "text": [
        "632"
       ]
      }
     ],
     "prompt_number": 11
    },
    {
     "cell_type": "markdown",
     "metadata": {},
     "source": [
      "We can give both the array of values and the index meaningful labels themselves:"
     ]
    },
    {
     "cell_type": "code",
     "collapsed": false,
     "input": [
      "bacteria.name = 'counts'\n",
      "bacteria.index.name = 'phylum'\n",
      "bacteria"
     ],
     "language": "python",
     "metadata": {},
     "outputs": [
      {
       "metadata": {},
       "output_type": "pyout",
       "prompt_number": 12,
       "text": [
        "phylum\n",
        "Firmicutes         632\n",
        "Proteobacteria    1638\n",
        "Actinobacteria     569\n",
        "Bacteroidetes      115\n",
        "Name: counts, dtype: int64"
       ]
      }
     ],
     "prompt_number": 12
    },
    {
     "cell_type": "markdown",
     "metadata": {},
     "source": [
      "NumPy's math functions and other operations can be applied to Series without losing the data structure."
     ]
    },
    {
     "cell_type": "code",
     "collapsed": false,
     "input": [
      "np.log(bacteria)"
     ],
     "language": "python",
     "metadata": {},
     "outputs": [
      {
       "metadata": {},
       "output_type": "pyout",
       "prompt_number": 13,
       "text": [
        "phylum\n",
        "Firmicutes        6.448889\n",
        "Proteobacteria    7.401231\n",
        "Actinobacteria    6.343880\n",
        "Bacteroidetes     4.744932\n",
        "Name: counts, dtype: float64"
       ]
      }
     ],
     "prompt_number": 13
    },
    {
     "cell_type": "markdown",
     "metadata": {},
     "source": [
      "We can also filter according to the values in the `Series`:"
     ]
    },
    {
     "cell_type": "code",
     "collapsed": false,
     "input": [
      "bacteria[bacteria>1000]"
     ],
     "language": "python",
     "metadata": {},
     "outputs": [
      {
       "metadata": {},
       "output_type": "pyout",
       "prompt_number": 14,
       "text": [
        "phylum\n",
        "Proteobacteria    1638\n",
        "Name: counts, dtype: int64"
       ]
      }
     ],
     "prompt_number": 14
    },
    {
     "cell_type": "markdown",
     "metadata": {},
     "source": [
      "A `Series` can be thought of as an ordered key-value store. In fact, we can create one from a `dict`:"
     ]
    },
    {
     "cell_type": "code",
     "collapsed": false,
     "input": [
      "bacteria_dict = {'Firmicutes': 632, 'Proteobacteria': 1638, 'Actinobacteria': 569, 'Bacteroidetes': 115}\n",
      "pd.Series(bacteria_dict)"
     ],
     "language": "python",
     "metadata": {},
     "outputs": [
      {
       "metadata": {},
       "output_type": "pyout",
       "prompt_number": 15,
       "text": [
        "Actinobacteria     569\n",
        "Bacteroidetes      115\n",
        "Firmicutes         632\n",
        "Proteobacteria    1638\n",
        "dtype: int64"
       ]
      }
     ],
     "prompt_number": 15
    },
    {
     "cell_type": "markdown",
     "metadata": {},
     "source": [
      "Notice that the `Series` is created in key-sorted order.\n",
      "\n",
      "If we pass a custom index to `Series`, it will select the corresponding values from the dict, and treat indices without corrsponding values as missing. Pandas uses the `NaN` (not a number) type for missing values."
     ]
    },
    {
     "cell_type": "code",
     "collapsed": false,
     "input": [
      "bacteria2 = pd.Series(bacteria_dict, index=['Cyanobacteria','Firmicutes','Proteobacteria','Actinobacteria'])\n",
      "bacteria2"
     ],
     "language": "python",
     "metadata": {},
     "outputs": [
      {
       "metadata": {},
       "output_type": "pyout",
       "prompt_number": 16,
       "text": [
        "Cyanobacteria      NaN\n",
        "Firmicutes         632\n",
        "Proteobacteria    1638\n",
        "Actinobacteria     569\n",
        "dtype: float64"
       ]
      }
     ],
     "prompt_number": 16
    },
    {
     "cell_type": "code",
     "collapsed": false,
     "input": [
      "bacteria2.isnull()"
     ],
     "language": "python",
     "metadata": {},
     "outputs": [
      {
       "metadata": {},
       "output_type": "pyout",
       "prompt_number": 17,
       "text": [
        "Cyanobacteria      True\n",
        "Firmicutes        False\n",
        "Proteobacteria    False\n",
        "Actinobacteria    False\n",
        "dtype: bool"
       ]
      }
     ],
     "prompt_number": 17
    },
    {
     "cell_type": "markdown",
     "metadata": {},
     "source": [
      "Critically, the labels are used to **align data** when used in operations with other Series objects:"
     ]
    },
    {
     "cell_type": "code",
     "collapsed": false,
     "input": [
      "bacteria + bacteria2"
     ],
     "language": "python",
     "metadata": {},
     "outputs": [
      {
       "metadata": {},
       "output_type": "pyout",
       "prompt_number": 18,
       "text": [
        "Actinobacteria    1138\n",
        "Bacteroidetes      NaN\n",
        "Cyanobacteria      NaN\n",
        "Firmicutes        1264\n",
        "Proteobacteria    3276\n",
        "dtype: float64"
       ]
      }
     ],
     "prompt_number": 18
    },
    {
     "cell_type": "markdown",
     "metadata": {},
     "source": [
      "Contrast this with NumPy arrays, where arrays of the same length will combine values element-wise; adding Series combined values with the same label in the resulting series. Notice also that the missing values were propogated by addition."
     ]
    },
    {
     "cell_type": "markdown",
     "metadata": {},
     "source": [
      "### DataFrame\n",
      "\n",
      "Inevitably, we want to be able to store, view and manipulate data that is *multivariate*, where for every index there are multiple fields or columns of data, often of varying data type.\n",
      "\n",
      "A `DataFrame` is a tabular data structure, encapsulating multiple series like columns in a spreadsheet. Data are stored internally as a 2-dimensional object, but the `DataFrame` allows us to represent and manipulate higher-dimensional data."
     ]
    },
    {
     "cell_type": "code",
     "collapsed": false,
     "input": [
      "data = pd.DataFrame({'value':[632, 1638, 569, 115, 433, 1130, 754, 555],\n",
      "                     'patient':[1, 1, 1, 1, 2, 2, 2, 2],\n",
      "                     'phylum':['Firmicutes', 'Proteobacteria', 'Actinobacteria', \n",
      "    'Bacteroidetes', 'Firmicutes', 'Proteobacteria', 'Actinobacteria', 'Bacteroidetes']})\n",
      "data"
     ],
     "language": "python",
     "metadata": {},
     "outputs": [
      {
       "metadata": {},
       "output_type": "pyout",
       "prompt_number": 19,
       "text": [
        "   patient          phylum  value\n",
        "0        1      Firmicutes    632\n",
        "1        1  Proteobacteria   1638\n",
        "2        1  Actinobacteria    569\n",
        "3        1   Bacteroidetes    115\n",
        "4        2      Firmicutes    433\n",
        "5        2  Proteobacteria   1130\n",
        "6        2  Actinobacteria    754\n",
        "7        2   Bacteroidetes    555"
       ]
      }
     ],
     "prompt_number": 19
    },
    {
     "cell_type": "markdown",
     "metadata": {},
     "source": [
      "Notice the `DataFrame` is sorted by column name. We can change the order by indexing them in the order we desire:"
     ]
    },
    {
     "cell_type": "code",
     "collapsed": false,
     "input": [
      "data[['phylum','value','patient']]"
     ],
     "language": "python",
     "metadata": {},
     "outputs": [
      {
       "metadata": {},
       "output_type": "pyout",
       "prompt_number": 21,
       "text": [
        "           phylum  value  patient\n",
        "0      Firmicutes    632        1\n",
        "1  Proteobacteria   1638        1\n",
        "2  Actinobacteria    569        1\n",
        "3   Bacteroidetes    115        1\n",
        "4      Firmicutes    433        2\n",
        "5  Proteobacteria   1130        2\n",
        "6  Actinobacteria    754        2\n",
        "7   Bacteroidetes    555        2"
       ]
      }
     ],
     "prompt_number": 21
    },
    {
     "cell_type": "markdown",
     "metadata": {},
     "source": [
      "A `DataFrame` has a second index, representing the columns:"
     ]
    },
    {
     "cell_type": "code",
     "collapsed": false,
     "input": [
      "data.columns"
     ],
     "language": "python",
     "metadata": {},
     "outputs": [
      {
       "metadata": {},
       "output_type": "pyout",
       "prompt_number": 22,
       "text": [
        "Index([u'patient', u'phylum', u'value'], dtype=object)"
       ]
      }
     ],
     "prompt_number": 22
    },
    {
     "cell_type": "markdown",
     "metadata": {},
     "source": [
      "If we wish to access columns, we can do so either by dict-like indexing or by attribute:"
     ]
    },
    {
     "cell_type": "code",
     "collapsed": false,
     "input": [
      "data['value']"
     ],
     "language": "python",
     "metadata": {},
     "outputs": [
      {
       "metadata": {},
       "output_type": "pyout",
       "prompt_number": 23,
       "text": [
        "0     632\n",
        "1    1638\n",
        "2     569\n",
        "3     115\n",
        "4     433\n",
        "5    1130\n",
        "6     754\n",
        "7     555\n",
        "Name: value, dtype: int64"
       ]
      }
     ],
     "prompt_number": 23
    },
    {
     "cell_type": "code",
     "collapsed": false,
     "input": [
      "data.value"
     ],
     "language": "python",
     "metadata": {},
     "outputs": [
      {
       "metadata": {},
       "output_type": "pyout",
       "prompt_number": 24,
       "text": [
        "0     632\n",
        "1    1638\n",
        "2     569\n",
        "3     115\n",
        "4     433\n",
        "5    1130\n",
        "6     754\n",
        "7     555\n",
        "Name: value, dtype: int64"
       ]
      }
     ],
     "prompt_number": 24
    },
    {
     "cell_type": "code",
     "collapsed": false,
     "input": [
      "type(data.value)"
     ],
     "language": "python",
     "metadata": {},
     "outputs": [
      {
       "metadata": {},
       "output_type": "pyout",
       "prompt_number": 25,
       "text": [
        "pandas.core.series.Series"
       ]
      }
     ],
     "prompt_number": 25
    },
    {
     "cell_type": "code",
     "collapsed": false,
     "input": [
      "type(data[['value']])"
     ],
     "language": "python",
     "metadata": {},
     "outputs": [
      {
       "metadata": {},
       "output_type": "pyout",
       "prompt_number": 27,
       "text": [
        "pandas.core.frame.DataFrame"
       ]
      }
     ],
     "prompt_number": 27
    },
    {
     "cell_type": "markdown",
     "metadata": {},
     "source": [
      "Notice this is different than with `Series`, where dict-like indexing retrieved a particular element (row). If we want access to a row in a `DataFrame`, we index its `ix` attribute.\n"
     ]
    },
    {
     "cell_type": "code",
     "collapsed": false,
     "input": [
      "data.ix[3]"
     ],
     "language": "python",
     "metadata": {},
     "outputs": [
      {
       "metadata": {},
       "output_type": "pyout",
       "prompt_number": 28,
       "text": [
        "patient                1\n",
        "phylum     Bacteroidetes\n",
        "value                115\n",
        "Name: 3, dtype: object"
       ]
      }
     ],
     "prompt_number": 28
    },
    {
     "cell_type": "markdown",
     "metadata": {},
     "source": [
      "Alternatively, we can create a `DataFrame` with a dict of dicts:"
     ]
    },
    {
     "cell_type": "code",
     "collapsed": false,
     "input": [
      "data = pd.DataFrame({0: {'patient': 1, 'phylum': 'Firmicutes', 'value': 632},\n",
      "                    1: {'patient': 1, 'phylum': 'Proteobacteria', 'value': 1638},\n",
      "                    2: {'patient': 1, 'phylum': 'Actinobacteria', 'value': 569},\n",
      "                    3: {'patient': 1, 'phylum': 'Bacteroidetes', 'value': 115},\n",
      "                    4: {'patient': 2, 'phylum': 'Firmicutes', 'value': 433},\n",
      "                    5: {'patient': 2, 'phylum': 'Proteobacteria', 'value': 1130},\n",
      "                    6: {'patient': 2, 'phylum': 'Actinobacteria', 'value': 754},\n",
      "                    7: {'patient': 2, 'phylum': 'Bacteroidetes', 'value': 555}})"
     ],
     "language": "python",
     "metadata": {},
     "outputs": [],
     "prompt_number": 29
    },
    {
     "cell_type": "code",
     "collapsed": false,
     "input": [
      "data"
     ],
     "language": "python",
     "metadata": {},
     "outputs": [
      {
       "metadata": {},
       "output_type": "pyout",
       "prompt_number": 30,
       "text": [
        "                  0               1               2              3           4               5               6              7\n",
        "patient           1               1               1              1           2               2               2              2\n",
        "phylum   Firmicutes  Proteobacteria  Actinobacteria  Bacteroidetes  Firmicutes  Proteobacteria  Actinobacteria  Bacteroidetes\n",
        "value           632            1638             569            115         433            1130             754            555"
       ]
      }
     ],
     "prompt_number": 30
    },
    {
     "cell_type": "markdown",
     "metadata": {},
     "source": [
      "We probably want this transposed:"
     ]
    },
    {
     "cell_type": "code",
     "collapsed": false,
     "input": [
      "data = data.T\n",
      "data"
     ],
     "language": "python",
     "metadata": {},
     "outputs": [
      {
       "metadata": {},
       "output_type": "pyout",
       "prompt_number": 31,
       "text": [
        "  patient          phylum value\n",
        "0       1      Firmicutes   632\n",
        "1       1  Proteobacteria  1638\n",
        "2       1  Actinobacteria   569\n",
        "3       1   Bacteroidetes   115\n",
        "4       2      Firmicutes   433\n",
        "5       2  Proteobacteria  1130\n",
        "6       2  Actinobacteria   754\n",
        "7       2   Bacteroidetes   555"
       ]
      }
     ],
     "prompt_number": 31
    },
    {
     "cell_type": "markdown",
     "metadata": {},
     "source": [
      "Its important to note that the Series returned when a DataFrame is indexted is merely a **view** on the DataFrame, and not a copy of the data itself. So you must be cautious when manipulating this data:"
     ]
    },
    {
     "cell_type": "code",
     "collapsed": false,
     "input": [
      "vals = data.value\n",
      "vals"
     ],
     "language": "python",
     "metadata": {},
     "outputs": [
      {
       "metadata": {},
       "output_type": "pyout",
       "prompt_number": 32,
       "text": [
        "0     632\n",
        "1    1638\n",
        "2     569\n",
        "3     115\n",
        "4     433\n",
        "5    1130\n",
        "6     754\n",
        "7     555\n",
        "Name: value, dtype: object"
       ]
      }
     ],
     "prompt_number": 32
    },
    {
     "cell_type": "code",
     "collapsed": false,
     "input": [
      "vals[5] = 0\n",
      "vals"
     ],
     "language": "python",
     "metadata": {},
     "outputs": [
      {
       "metadata": {},
       "output_type": "pyout",
       "prompt_number": 33,
       "text": [
        "0     632\n",
        "1    1638\n",
        "2     569\n",
        "3     115\n",
        "4     433\n",
        "5       0\n",
        "6     754\n",
        "7     555\n",
        "Name: value, dtype: object"
       ]
      }
     ],
     "prompt_number": 33
    },
    {
     "cell_type": "code",
     "collapsed": false,
     "input": [
      "data"
     ],
     "language": "python",
     "metadata": {},
     "outputs": [
      {
       "metadata": {},
       "output_type": "pyout",
       "prompt_number": 34,
       "text": [
        "  patient          phylum value\n",
        "0       1      Firmicutes   632\n",
        "1       1  Proteobacteria  1638\n",
        "2       1  Actinobacteria   569\n",
        "3       1   Bacteroidetes   115\n",
        "4       2      Firmicutes   433\n",
        "5       2  Proteobacteria     0\n",
        "6       2  Actinobacteria   754\n",
        "7       2   Bacteroidetes   555"
       ]
      }
     ],
     "prompt_number": 34
    },
    {
     "cell_type": "code",
     "collapsed": false,
     "input": [
      "vals = data.value.copy()\n",
      "vals[5] = 1000\n",
      "data"
     ],
     "language": "python",
     "metadata": {},
     "outputs": [
      {
       "metadata": {},
       "output_type": "pyout",
       "prompt_number": 35,
       "text": [
        "  patient          phylum value\n",
        "0       1      Firmicutes   632\n",
        "1       1  Proteobacteria  1638\n",
        "2       1  Actinobacteria   569\n",
        "3       1   Bacteroidetes   115\n",
        "4       2      Firmicutes   433\n",
        "5       2  Proteobacteria     0\n",
        "6       2  Actinobacteria   754\n",
        "7       2   Bacteroidetes   555"
       ]
      }
     ],
     "prompt_number": 35
    },
    {
     "cell_type": "markdown",
     "metadata": {},
     "source": [
      "We can create or modify columns by assignment:"
     ]
    },
    {
     "cell_type": "code",
     "collapsed": false,
     "input": [
      "data.value[3] = 14\n",
      "data"
     ],
     "language": "python",
     "metadata": {},
     "outputs": [
      {
       "metadata": {},
       "output_type": "pyout",
       "prompt_number": 36,
       "text": [
        "  patient          phylum value\n",
        "0       1      Firmicutes   632\n",
        "1       1  Proteobacteria  1638\n",
        "2       1  Actinobacteria   569\n",
        "3       1   Bacteroidetes    14\n",
        "4       2      Firmicutes   433\n",
        "5       2  Proteobacteria     0\n",
        "6       2  Actinobacteria   754\n",
        "7       2   Bacteroidetes   555"
       ]
      }
     ],
     "prompt_number": 36
    },
    {
     "cell_type": "code",
     "collapsed": false,
     "input": [
      "data['year'] = 2013\n",
      "data"
     ],
     "language": "python",
     "metadata": {},
     "outputs": [
      {
       "metadata": {},
       "output_type": "pyout",
       "prompt_number": 37,
       "text": [
        "  patient          phylum value  year\n",
        "0       1      Firmicutes   632  2013\n",
        "1       1  Proteobacteria  1638  2013\n",
        "2       1  Actinobacteria   569  2013\n",
        "3       1   Bacteroidetes    14  2013\n",
        "4       2      Firmicutes   433  2013\n",
        "5       2  Proteobacteria     0  2013\n",
        "6       2  Actinobacteria   754  2013\n",
        "7       2   Bacteroidetes   555  2013"
       ]
      }
     ],
     "prompt_number": 37
    },
    {
     "cell_type": "markdown",
     "metadata": {},
     "source": [
      "But note, we cannot use the attribute indexing method to add a new column:"
     ]
    },
    {
     "cell_type": "code",
     "collapsed": false,
     "input": [
      "data.treatment = 1\n",
      "data"
     ],
     "language": "python",
     "metadata": {},
     "outputs": [
      {
       "metadata": {},
       "output_type": "pyout",
       "prompt_number": 38,
       "text": [
        "  patient          phylum value  year\n",
        "0       1      Firmicutes   632  2013\n",
        "1       1  Proteobacteria  1638  2013\n",
        "2       1  Actinobacteria   569  2013\n",
        "3       1   Bacteroidetes    14  2013\n",
        "4       2      Firmicutes   433  2013\n",
        "5       2  Proteobacteria     0  2013\n",
        "6       2  Actinobacteria   754  2013\n",
        "7       2   Bacteroidetes   555  2013"
       ]
      }
     ],
     "prompt_number": 38
    },
    {
     "cell_type": "code",
     "collapsed": false,
     "input": [
      "data.treatment"
     ],
     "language": "python",
     "metadata": {},
     "outputs": [
      {
       "metadata": {},
       "output_type": "pyout",
       "prompt_number": 39,
       "text": [
        "1"
       ]
      }
     ],
     "prompt_number": 39
    },
    {
     "cell_type": "markdown",
     "metadata": {},
     "source": [
      "Specifying a `Series` as a new columns cause its values to be added according to the `DataFrame`'s index:"
     ]
    },
    {
     "cell_type": "code",
     "collapsed": false,
     "input": [
      "treatment = pd.Series([0]*4 + [1]*2)\n",
      "treatment"
     ],
     "language": "python",
     "metadata": {},
     "outputs": [
      {
       "metadata": {},
       "output_type": "pyout",
       "prompt_number": 40,
       "text": [
        "0    0\n",
        "1    0\n",
        "2    0\n",
        "3    0\n",
        "4    1\n",
        "5    1\n",
        "dtype: int64"
       ]
      }
     ],
     "prompt_number": 40
    },
    {
     "cell_type": "code",
     "collapsed": false,
     "input": [
      "data['treatment'] = treatment\n",
      "data"
     ],
     "language": "python",
     "metadata": {},
     "outputs": [
      {
       "metadata": {},
       "output_type": "pyout",
       "prompt_number": 41,
       "text": [
        "  patient          phylum value  year  treatment\n",
        "0       1      Firmicutes   632  2013          0\n",
        "1       1  Proteobacteria  1638  2013          0\n",
        "2       1  Actinobacteria   569  2013          0\n",
        "3       1   Bacteroidetes    14  2013          0\n",
        "4       2      Firmicutes   433  2013          1\n",
        "5       2  Proteobacteria     0  2013          1\n",
        "6       2  Actinobacteria   754  2013        NaN\n",
        "7       2   Bacteroidetes   555  2013        NaN"
       ]
      }
     ],
     "prompt_number": 41
    },
    {
     "cell_type": "markdown",
     "metadata": {},
     "source": [
      "Other Python data structures (ones without an index) need to be the same length as the `DataFrame`:"
     ]
    },
    {
     "cell_type": "code",
     "collapsed": false,
     "input": [
      "month = ['Jan', 'Feb', 'Mar', 'Apr']\n",
      "data['month'] = month"
     ],
     "language": "python",
     "metadata": {},
     "outputs": [
      {
       "ename": "AssertionError",
       "evalue": "Length of values does not match length of index",
       "output_type": "pyerr",
       "traceback": [
        "\u001b[0;31m---------------------------------------------------------------------------\u001b[0m\n\u001b[0;31mAssertionError\u001b[0m                            Traceback (most recent call last)",
        "\u001b[0;32m<ipython-input-42-360d03fdde9a>\u001b[0m in \u001b[0;36m<module>\u001b[0;34m()\u001b[0m\n\u001b[1;32m      1\u001b[0m \u001b[0mmonth\u001b[0m \u001b[0;34m=\u001b[0m \u001b[0;34m[\u001b[0m\u001b[0;34m'Jan'\u001b[0m\u001b[0;34m,\u001b[0m \u001b[0;34m'Feb'\u001b[0m\u001b[0;34m,\u001b[0m \u001b[0;34m'Mar'\u001b[0m\u001b[0;34m,\u001b[0m \u001b[0;34m'Apr'\u001b[0m\u001b[0;34m]\u001b[0m\u001b[0;34m\u001b[0m\u001b[0m\n\u001b[0;32m----> 2\u001b[0;31m \u001b[0mdata\u001b[0m\u001b[0;34m[\u001b[0m\u001b[0;34m'month'\u001b[0m\u001b[0;34m]\u001b[0m \u001b[0;34m=\u001b[0m \u001b[0mmonth\u001b[0m\u001b[0;34m\u001b[0m\u001b[0m\n\u001b[0m",
        "\u001b[0;32m/Library/Python/2.7/site-packages/pandas-0.11.1.dev_fcced51_20130617-py2.7-macosx-10.8-intel.egg/pandas/core/frame.pyc\u001b[0m in \u001b[0;36m__setitem__\u001b[0;34m(self, key, value)\u001b[0m\n\u001b[1;32m   2137\u001b[0m         \u001b[0;32melse\u001b[0m\u001b[0;34m:\u001b[0m\u001b[0;34m\u001b[0m\u001b[0m\n\u001b[1;32m   2138\u001b[0m             \u001b[0;31m# set column\u001b[0m\u001b[0;34m\u001b[0m\u001b[0;34m\u001b[0m\u001b[0m\n\u001b[0;32m-> 2139\u001b[0;31m             \u001b[0mself\u001b[0m\u001b[0;34m.\u001b[0m\u001b[0m_set_item\u001b[0m\u001b[0;34m(\u001b[0m\u001b[0mkey\u001b[0m\u001b[0;34m,\u001b[0m \u001b[0mvalue\u001b[0m\u001b[0;34m)\u001b[0m\u001b[0;34m\u001b[0m\u001b[0m\n\u001b[0m\u001b[1;32m   2140\u001b[0m \u001b[0;34m\u001b[0m\u001b[0m\n\u001b[1;32m   2141\u001b[0m     \u001b[0;32mdef\u001b[0m \u001b[0m_setitem_slice\u001b[0m\u001b[0;34m(\u001b[0m\u001b[0mself\u001b[0m\u001b[0;34m,\u001b[0m \u001b[0mkey\u001b[0m\u001b[0;34m,\u001b[0m \u001b[0mvalue\u001b[0m\u001b[0;34m)\u001b[0m\u001b[0;34m:\u001b[0m\u001b[0;34m\u001b[0m\u001b[0m\n",
        "\u001b[0;32m/Library/Python/2.7/site-packages/pandas-0.11.1.dev_fcced51_20130617-py2.7-macosx-10.8-intel.egg/pandas/core/frame.pyc\u001b[0m in \u001b[0;36m_set_item\u001b[0;34m(self, key, value)\u001b[0m\n\u001b[1;32m   2183\u001b[0m         \u001b[0mensure\u001b[0m \u001b[0mhomogeneity\u001b[0m\u001b[0;34m.\u001b[0m\u001b[0;34m\u001b[0m\u001b[0m\n\u001b[1;32m   2184\u001b[0m         \"\"\"\n\u001b[0;32m-> 2185\u001b[0;31m         \u001b[0mvalue\u001b[0m \u001b[0;34m=\u001b[0m \u001b[0mself\u001b[0m\u001b[0;34m.\u001b[0m\u001b[0m_sanitize_column\u001b[0m\u001b[0;34m(\u001b[0m\u001b[0mkey\u001b[0m\u001b[0;34m,\u001b[0m \u001b[0mvalue\u001b[0m\u001b[0;34m)\u001b[0m\u001b[0;34m\u001b[0m\u001b[0m\n\u001b[0m\u001b[1;32m   2186\u001b[0m         \u001b[0mNDFrame\u001b[0m\u001b[0;34m.\u001b[0m\u001b[0m_set_item\u001b[0m\u001b[0;34m(\u001b[0m\u001b[0mself\u001b[0m\u001b[0;34m,\u001b[0m \u001b[0mkey\u001b[0m\u001b[0;34m,\u001b[0m \u001b[0mvalue\u001b[0m\u001b[0;34m)\u001b[0m\u001b[0;34m\u001b[0m\u001b[0m\n\u001b[1;32m   2187\u001b[0m \u001b[0;34m\u001b[0m\u001b[0m\n",
        "\u001b[0;32m/Library/Python/2.7/site-packages/pandas-0.11.1.dev_fcced51_20130617-py2.7-macosx-10.8-intel.egg/pandas/core/frame.pyc\u001b[0m in \u001b[0;36m_sanitize_column\u001b[0;34m(self, key, value)\u001b[0m\n\u001b[1;32m   2217\u001b[0m             \u001b[0;32melse\u001b[0m\u001b[0;34m:\u001b[0m\u001b[0;34m\u001b[0m\u001b[0m\n\u001b[1;32m   2218\u001b[0m                 \u001b[0;32mif\u001b[0m \u001b[0mlen\u001b[0m\u001b[0;34m(\u001b[0m\u001b[0mvalue\u001b[0m\u001b[0;34m)\u001b[0m \u001b[0;34m!=\u001b[0m \u001b[0mlen\u001b[0m\u001b[0;34m(\u001b[0m\u001b[0mself\u001b[0m\u001b[0;34m.\u001b[0m\u001b[0mindex\u001b[0m\u001b[0;34m)\u001b[0m\u001b[0;34m:\u001b[0m\u001b[0;34m\u001b[0m\u001b[0m\n\u001b[0;32m-> 2219\u001b[0;31m                     raise AssertionError('Length of values does not match '\n\u001b[0m\u001b[1;32m   2220\u001b[0m                                          'length of index')\n\u001b[1;32m   2221\u001b[0m \u001b[0;34m\u001b[0m\u001b[0m\n",
        "\u001b[0;31mAssertionError\u001b[0m: Length of values does not match length of index"
       ]
      }
     ],
     "prompt_number": 42
    },
    {
     "cell_type": "code",
     "collapsed": false,
     "input": [
      "data['month'] = ['Jan']*len(data)\n",
      "data"
     ],
     "language": "python",
     "metadata": {},
     "outputs": [
      {
       "metadata": {},
       "output_type": "pyout",
       "prompt_number": 43,
       "text": [
        "  patient          phylum value  year  treatment month\n",
        "0       1      Firmicutes   632  2013          0   Jan\n",
        "1       1  Proteobacteria  1638  2013          0   Jan\n",
        "2       1  Actinobacteria   569  2013          0   Jan\n",
        "3       1   Bacteroidetes    14  2013          0   Jan\n",
        "4       2      Firmicutes   433  2013          1   Jan\n",
        "5       2  Proteobacteria     0  2013          1   Jan\n",
        "6       2  Actinobacteria   754  2013        NaN   Jan\n",
        "7       2   Bacteroidetes   555  2013        NaN   Jan"
       ]
      }
     ],
     "prompt_number": 43
    },
    {
     "cell_type": "markdown",
     "metadata": {},
     "source": [
      "We can use `del` to remove columns, in the same way `dict` entries can be removed:"
     ]
    },
    {
     "cell_type": "code",
     "collapsed": false,
     "input": [
      "del data['month']\n",
      "data"
     ],
     "language": "python",
     "metadata": {},
     "outputs": [
      {
       "metadata": {},
       "output_type": "pyout",
       "prompt_number": 44,
       "text": [
        "  patient          phylum value  year  treatment\n",
        "0       1      Firmicutes   632  2013          0\n",
        "1       1  Proteobacteria  1638  2013          0\n",
        "2       1  Actinobacteria   569  2013          0\n",
        "3       1   Bacteroidetes    14  2013          0\n",
        "4       2      Firmicutes   433  2013          1\n",
        "5       2  Proteobacteria     0  2013          1\n",
        "6       2  Actinobacteria   754  2013        NaN\n",
        "7       2   Bacteroidetes   555  2013        NaN"
       ]
      }
     ],
     "prompt_number": 44
    },
    {
     "cell_type": "markdown",
     "metadata": {},
     "source": [
      "We can extract the underlying data as a simple `ndarray` by accessing the `values` attribute:"
     ]
    },
    {
     "cell_type": "code",
     "collapsed": false,
     "input": [
      "data.values"
     ],
     "language": "python",
     "metadata": {},
     "outputs": [
      {
       "metadata": {},
       "output_type": "pyout",
       "prompt_number": 46,
       "text": [
        "array([[1, 'Firmicutes', 632, 2013, 0.0],\n",
        "       [1, 'Proteobacteria', 1638, 2013, 0.0],\n",
        "       [1, 'Actinobacteria', 569, 2013, 0.0],\n",
        "       [1, 'Bacteroidetes', 14, 2013, 0.0],\n",
        "       [2, 'Firmicutes', 433, 2013, 1.0],\n",
        "       [2, 'Proteobacteria', 0, 2013, 1.0],\n",
        "       [2, 'Actinobacteria', 754, 2013, nan],\n",
        "       [2, 'Bacteroidetes', 555, 2013, nan]], dtype=object)"
       ]
      }
     ],
     "prompt_number": 46
    },
    {
     "cell_type": "markdown",
     "metadata": {},
     "source": [
      "Notice that because of the mix of string and integer (and `NaN`) values, the dtype of the array is `object`. The dtype will automatically be chosen to be as general as needed to accomodate all the columns."
     ]
    },
    {
     "cell_type": "code",
     "collapsed": false,
     "input": [
      "df = pd.DataFrame({'foo': [1,2,3], 'bar':[0.4, -1.0, 4.5]})\n",
      "df.values"
     ],
     "language": "python",
     "metadata": {},
     "outputs": [
      {
       "metadata": {},
       "output_type": "pyout",
       "prompt_number": 55,
       "text": [
        "array([[ 0.4,  1. ],\n",
        "       [-1. ,  2. ],\n",
        "       [ 4.5,  3. ]])"
       ]
      }
     ],
     "prompt_number": 55
    },
    {
     "cell_type": "markdown",
     "metadata": {},
     "source": [
      "Pandas uses a custom data structure to represent the indices of Series and DataFrames."
     ]
    },
    {
     "cell_type": "code",
     "collapsed": false,
     "input": [
      "data.index"
     ],
     "language": "python",
     "metadata": {},
     "outputs": [
      {
       "ename": "NameError",
       "evalue": "name 'data' is not defined",
       "output_type": "pyerr",
       "traceback": [
        "\u001b[1;31m---------------------------------------------------------------------------\u001b[0m\n\u001b[1;31mNameError\u001b[0m                                 Traceback (most recent call last)",
        "\u001b[1;32m<ipython-input-1-07b7a4a4ba5b>\u001b[0m in \u001b[0;36m<module>\u001b[1;34m()\u001b[0m\n\u001b[1;32m----> 1\u001b[1;33m \u001b[0mdata\u001b[0m\u001b[1;33m.\u001b[0m\u001b[0mindex\u001b[0m\u001b[1;33m\u001b[0m\u001b[0m\n\u001b[0m",
        "\u001b[1;31mNameError\u001b[0m: name 'data' is not defined"
       ]
      }
     ],
     "prompt_number": 1
    },
    {
     "cell_type": "heading",
     "level": 2,
     "metadata": {},
     "source": [
      "Example of importing time series data"
     ]
    },
    {
     "cell_type": "code",
     "collapsed": false,
     "input": [
      "import pandas as pd\n",
      "import numpy as np\n",
      "from datetime import datetime, timedelta\n",
      "from time import strptime\n",
      "from scipy import stats\n",
      "import math\n",
      "import operator\n",
      "from __future__ import division"
     ],
     "language": "python",
     "metadata": {},
     "outputs": [],
     "prompt_number": 2
    },
    {
     "cell_type": "code",
     "collapsed": false,
     "input": [
      "files = ['GL.csv','PJ.csv','PP.csv']\n",
      "f = pd.read_csv(files[1])\n",
      "f[:5]"
     ],
     "language": "python",
     "metadata": {},
     "outputs": [
      {
       "html": [
        "<div style=\"max-height:1000px;max-width:1500px;overflow:auto;\">\n",
        "<table border=\"1\" class=\"dataframe\">\n",
        "  <thead>\n",
        "    <tr style=\"text-align: right;\">\n",
        "      <th></th>\n",
        "      <th>Date</th>\n",
        "      <th>Time</th>\n",
        "      <th>Precip</th>\n",
        "      <th>SWC</th>\n",
        "      <th>Stemp</th>\n",
        "      <th>Evapo</th>\n",
        "      <th>AirTemp</th>\n",
        "      <th>Solar</th>\n",
        "    </tr>\n",
        "  </thead>\n",
        "  <tbody>\n",
        "    <tr>\n",
        "      <th>0</th>\n",
        "      <td> 12/9/2010</td>\n",
        "      <td> 17:00</td>\n",
        "      <td> 0</td>\n",
        "      <td> 0.144</td>\n",
        "      <td> 41.34</td>\n",
        "      <td> 0.022</td>\n",
        "      <td> 8.250</td>\n",
        "      <td> 0.013</td>\n",
        "    </tr>\n",
        "    <tr>\n",
        "      <th>1</th>\n",
        "      <td> 12/9/2010</td>\n",
        "      <td> 18:00</td>\n",
        "      <td> 0</td>\n",
        "      <td> 0.147</td>\n",
        "      <td> 39.40</td>\n",
        "      <td> 0.021</td>\n",
        "      <td> 6.695</td>\n",
        "      <td> 0.003</td>\n",
        "    </tr>\n",
        "    <tr>\n",
        "      <th>2</th>\n",
        "      <td> 12/9/2010</td>\n",
        "      <td> 19:00</td>\n",
        "      <td> 0</td>\n",
        "      <td> 0.146</td>\n",
        "      <td> 35.50</td>\n",
        "      <td> 0.032</td>\n",
        "      <td> 8.030</td>\n",
        "      <td> 0.000</td>\n",
        "    </tr>\n",
        "    <tr>\n",
        "      <th>3</th>\n",
        "      <td> 12/9/2010</td>\n",
        "      <td> 20:00</td>\n",
        "      <td> 0</td>\n",
        "      <td> 0.146</td>\n",
        "      <td> 32.71</td>\n",
        "      <td> 0.027</td>\n",
        "      <td> 7.061</td>\n",
        "      <td> 0.000</td>\n",
        "    </tr>\n",
        "    <tr>\n",
        "      <th>4</th>\n",
        "      <td> 12/9/2010</td>\n",
        "      <td> 21:00</td>\n",
        "      <td> 0</td>\n",
        "      <td> 0.147</td>\n",
        "      <td> 30.54</td>\n",
        "      <td> 0.028</td>\n",
        "      <td> 6.926</td>\n",
        "      <td> 0.000</td>\n",
        "    </tr>\n",
        "  </tbody>\n",
        "</table>\n",
        "</div>"
       ],
       "metadata": {},
       "output_type": "pyout",
       "prompt_number": 4,
       "text": [
        "        Date   Time  Precip    SWC  Stemp  Evapo  AirTemp  Solar\n",
        "0  12/9/2010  17:00       0  0.144  41.34  0.022    8.250  0.013\n",
        "1  12/9/2010  18:00       0  0.147  39.40  0.021    6.695  0.003\n",
        "2  12/9/2010  19:00       0  0.146  35.50  0.032    8.030  0.000\n",
        "3  12/9/2010  20:00       0  0.146  32.71  0.027    7.061  0.000\n",
        "4  12/9/2010  21:00       0  0.147  30.54  0.028    6.926  0.000"
       ]
      }
     ],
     "prompt_number": 4
    },
    {
     "cell_type": "code",
     "collapsed": false,
     "input": [
      "df = pd.DataFrame()\n",
      "for file in range(len(files)):\n",
      "    temp = pd.read_csv(files[file], parse_dates={'Timestamp': ['Date', 'Time']}, index_col='Timestamp')\n",
      "    for col in temp:\n",
      "        new_name = str(files[file].strip('.csv')) + \"_\" + col\n",
      "        temp = temp.rename(columns = {col:new_name})\n",
      "    \n",
      "    df = df.join(temp['2011-01-01':'2011-12-31'], how='outer')"
     ],
     "language": "python",
     "metadata": {},
     "outputs": [],
     "prompt_number": 5
    },
    {
     "cell_type": "code",
     "collapsed": false,
     "input": [
      "df[:5]"
     ],
     "language": "python",
     "metadata": {},
     "outputs": [
      {
       "html": [
        "<div style=\"max-height:1000px;max-width:1500px;overflow:auto;\">\n",
        "<table border=\"1\" class=\"dataframe\">\n",
        "  <thead>\n",
        "    <tr style=\"text-align: right;\">\n",
        "      <th></th>\n",
        "      <th>GL_Precip</th>\n",
        "      <th>GL_SWC</th>\n",
        "      <th>GL_Stemp</th>\n",
        "      <th>GL_Evapo</th>\n",
        "      <th>GL_AirTemp</th>\n",
        "      <th>GL_Solar</th>\n",
        "      <th>PJ_Precip</th>\n",
        "      <th>PJ_SWC</th>\n",
        "      <th>PJ_Stemp</th>\n",
        "      <th>PJ_Evapo</th>\n",
        "      <th>PJ_AirTemp</th>\n",
        "      <th>PJ_Solar</th>\n",
        "      <th>PP_Precip</th>\n",
        "      <th>PP_SWC</th>\n",
        "      <th>PP_Stemp</th>\n",
        "      <th>PP_Evapo</th>\n",
        "      <th>PP_AirTemp</th>\n",
        "      <th>PP_Solar</th>\n",
        "    </tr>\n",
        "    <tr>\n",
        "      <th>Timestamp</th>\n",
        "      <th></th>\n",
        "      <th></th>\n",
        "      <th></th>\n",
        "      <th></th>\n",
        "      <th></th>\n",
        "      <th></th>\n",
        "      <th></th>\n",
        "      <th></th>\n",
        "      <th></th>\n",
        "      <th></th>\n",
        "      <th></th>\n",
        "      <th></th>\n",
        "      <th></th>\n",
        "      <th></th>\n",
        "      <th></th>\n",
        "      <th></th>\n",
        "      <th></th>\n",
        "      <th></th>\n",
        "    </tr>\n",
        "  </thead>\n",
        "  <tbody>\n",
        "    <tr>\n",
        "      <th>2011-01-01 00:00:00</th>\n",
        "      <td>NaN</td>\n",
        "      <td>NaN</td>\n",
        "      <td>NaN</td>\n",
        "      <td>NaN</td>\n",
        "      <td>NaN</td>\n",
        "      <td>NaN</td>\n",
        "      <td> 0</td>\n",
        "      <td> 0.171</td>\n",
        "      <td> 0.303</td>\n",
        "      <td>-0.003</td>\n",
        "      <td>-16.01</td>\n",
        "      <td> 0</td>\n",
        "      <td>NaN</td>\n",
        "      <td>NaN</td>\n",
        "      <td>NaN</td>\n",
        "      <td>NaN</td>\n",
        "      <td>NaN</td>\n",
        "      <td>NaN</td>\n",
        "    </tr>\n",
        "    <tr>\n",
        "      <th>2011-01-01 01:00:00</th>\n",
        "      <td>NaN</td>\n",
        "      <td>NaN</td>\n",
        "      <td>NaN</td>\n",
        "      <td>NaN</td>\n",
        "      <td>NaN</td>\n",
        "      <td>NaN</td>\n",
        "      <td> 0</td>\n",
        "      <td> 0.171</td>\n",
        "      <td> 0.307</td>\n",
        "      <td> 0.002</td>\n",
        "      <td>-12.89</td>\n",
        "      <td> 0</td>\n",
        "      <td>NaN</td>\n",
        "      <td>NaN</td>\n",
        "      <td>NaN</td>\n",
        "      <td>NaN</td>\n",
        "      <td>NaN</td>\n",
        "      <td>NaN</td>\n",
        "    </tr>\n",
        "    <tr>\n",
        "      <th>2011-01-01 02:00:00</th>\n",
        "      <td>NaN</td>\n",
        "      <td>NaN</td>\n",
        "      <td>NaN</td>\n",
        "      <td>NaN</td>\n",
        "      <td>NaN</td>\n",
        "      <td>NaN</td>\n",
        "      <td> 0</td>\n",
        "      <td> 0.170</td>\n",
        "      <td> 0.295</td>\n",
        "      <td> 0.003</td>\n",
        "      <td>-12.75</td>\n",
        "      <td> 0</td>\n",
        "      <td>NaN</td>\n",
        "      <td>NaN</td>\n",
        "      <td>NaN</td>\n",
        "      <td>NaN</td>\n",
        "      <td>NaN</td>\n",
        "      <td>NaN</td>\n",
        "    </tr>\n",
        "    <tr>\n",
        "      <th>2011-01-01 03:00:00</th>\n",
        "      <td>NaN</td>\n",
        "      <td>NaN</td>\n",
        "      <td>NaN</td>\n",
        "      <td>NaN</td>\n",
        "      <td>NaN</td>\n",
        "      <td>NaN</td>\n",
        "      <td> 0</td>\n",
        "      <td> 0.170</td>\n",
        "      <td> 0.270</td>\n",
        "      <td> 0.004</td>\n",
        "      <td>-13.39</td>\n",
        "      <td> 0</td>\n",
        "      <td>NaN</td>\n",
        "      <td>NaN</td>\n",
        "      <td>NaN</td>\n",
        "      <td>NaN</td>\n",
        "      <td>NaN</td>\n",
        "      <td>NaN</td>\n",
        "    </tr>\n",
        "    <tr>\n",
        "      <th>2011-01-01 04:00:00</th>\n",
        "      <td>NaN</td>\n",
        "      <td>NaN</td>\n",
        "      <td>NaN</td>\n",
        "      <td>NaN</td>\n",
        "      <td>NaN</td>\n",
        "      <td>NaN</td>\n",
        "      <td> 0</td>\n",
        "      <td> 0.170</td>\n",
        "      <td> 0.253</td>\n",
        "      <td> 0.003</td>\n",
        "      <td>-14.26</td>\n",
        "      <td> 0</td>\n",
        "      <td>NaN</td>\n",
        "      <td>NaN</td>\n",
        "      <td>NaN</td>\n",
        "      <td>NaN</td>\n",
        "      <td>NaN</td>\n",
        "      <td>NaN</td>\n",
        "    </tr>\n",
        "  </tbody>\n",
        "</table>\n",
        "</div>"
       ],
       "metadata": {},
       "output_type": "pyout",
       "prompt_number": 6,
       "text": [
        "                     GL_Precip  GL_SWC  GL_Stemp  GL_Evapo  GL_AirTemp  \\\n",
        "Timestamp                                                                \n",
        "2011-01-01 00:00:00        NaN     NaN       NaN       NaN         NaN   \n",
        "2011-01-01 01:00:00        NaN     NaN       NaN       NaN         NaN   \n",
        "2011-01-01 02:00:00        NaN     NaN       NaN       NaN         NaN   \n",
        "2011-01-01 03:00:00        NaN     NaN       NaN       NaN         NaN   \n",
        "2011-01-01 04:00:00        NaN     NaN       NaN       NaN         NaN   \n",
        "\n",
        "                     GL_Solar  PJ_Precip  PJ_SWC  PJ_Stemp  PJ_Evapo  \\\n",
        "Timestamp                                                              \n",
        "2011-01-01 00:00:00       NaN          0   0.171     0.303    -0.003   \n",
        "2011-01-01 01:00:00       NaN          0   0.171     0.307     0.002   \n",
        "2011-01-01 02:00:00       NaN          0   0.170     0.295     0.003   \n",
        "2011-01-01 03:00:00       NaN          0   0.170     0.270     0.004   \n",
        "2011-01-01 04:00:00       NaN          0   0.170     0.253     0.003   \n",
        "\n",
        "                     PJ_AirTemp  PJ_Solar  PP_Precip  PP_SWC  PP_Stemp  \\\n",
        "Timestamp                                                                \n",
        "2011-01-01 00:00:00      -16.01         0        NaN     NaN       NaN   \n",
        "2011-01-01 01:00:00      -12.89         0        NaN     NaN       NaN   \n",
        "2011-01-01 02:00:00      -12.75         0        NaN     NaN       NaN   \n",
        "2011-01-01 03:00:00      -13.39         0        NaN     NaN       NaN   \n",
        "2011-01-01 04:00:00      -14.26         0        NaN     NaN       NaN   \n",
        "\n",
        "                     PP_Evapo  PP_AirTemp  PP_Solar  \n",
        "Timestamp                                            \n",
        "2011-01-01 00:00:00       NaN         NaN       NaN  \n",
        "2011-01-01 01:00:00       NaN         NaN       NaN  \n",
        "2011-01-01 02:00:00       NaN         NaN       NaN  \n",
        "2011-01-01 03:00:00       NaN         NaN       NaN  \n",
        "2011-01-01 04:00:00       NaN         NaN       NaN  "
       ]
      }
     ],
     "prompt_number": 6
    },
    {
     "cell_type": "code",
     "collapsed": false,
     "input": [
      "def collapse_by_day(df):\n",
      "    new_df = pd.DataFrame()\n",
      "    for i in df.columns:\n",
      "        if 'Precip' in i:\n",
      "            new_df[i] = df.groupby(pd.TimeGrouper('1D'))[i].sum()\n",
      "        if 'AirTemp' in i:\n",
      "            new_df[i] = df.groupby(pd.TimeGrouper('1D'))[i].mean()\n",
      "            new_df[i + 'Max'] = df.groupby(pd.TimeGrouper('1D'))[i].max()\n",
      "            new_df[i + 'Min'] = df.groupby(pd.TimeGrouper('1D'))[i].min()\n",
      "        if 'Solar' in i:\n",
      "            new_df[i + 'Max'] = df.groupby(pd.TimeGrouper('1D'))[i].max()\n",
      "        else:\n",
      "            new_df[i] = df.groupby(pd.TimeGrouper('1D'))[i].mean()\n",
      "    return new_df"
     ],
     "language": "python",
     "metadata": {},
     "outputs": [],
     "prompt_number": 7
    },
    {
     "cell_type": "code",
     "collapsed": false,
     "input": [
      "collapsed_df = collapse_by_day(df)"
     ],
     "language": "python",
     "metadata": {},
     "outputs": [],
     "prompt_number": 9
    },
    {
     "cell_type": "code",
     "collapsed": false,
     "input": [
      "def make_df(df, dates, days):\n",
      "   \n",
      "    names = list(df.columns.values)\n",
      "    \n",
      "    tmp_names = []\n",
      "    final_index = []\n",
      "    for name in range(len(names)):\n",
      "        tmp_names.append(names[name].split('_')[0])\n",
      "    tmp_names = list(set(tmp_names))\n",
      "    \n",
      "    columns = list(df.columns)\n",
      "    new_columns = []\n",
      "    for col in range(len(columns)):\n",
      "        for day in days:\n",
      "            new_columns.append(columns[col].split('_')[1] + '_' + str(day))\n",
      "    new_columns = list(set(new_columns))\n",
      "    stupid_df = pd.DataFrame(columns = new_columns)\n",
      "    stupid_dict = {}\n",
      "\n",
      "    var_list = []\n",
      "    for var in range(len(new_columns)):\n",
      "        var_list.append(new_columns[var].split('_')[0])\n",
      "        \n",
      "    var_list = list(set(var_list))    \n",
      "    \n",
      "    \n",
      "    for var in range(len(var_list)):\n",
      "\n",
      "\n",
      "        for day in days:\n",
      "            row_dict = {}\n",
      "            row_key = var_list[var] + '_' + str(day)\n",
      "            row_dict[row_key] = {}\n",
      "            \n",
      "            for date in range(len(dates)):\n",
      "                tmp_dict = {}\n",
      "                \n",
      "                for name in range(len(tmp_names)):\n",
      "                    col_name = tmp_names[name] + str(date)\n",
      "                    \n",
      "                    if day == 1:\n",
      "                        col_value = {col_name:df.ix[dates[date]][tmp_names[name] + '_' + var_list[var]]}\n",
      "                    else:\n",
      "                        if 'Precip' in var_list[var]:\n",
      "                            col_value = {col_name:df.ix[str(datetime.strptime(dates[date], \"%Y-%m-%d\") - timedelta(days=day-1)).strip(' 00:00:00'):dates[date]][tmp_names[name] + '_' + var_list[var]].sum()}\n",
      "                        else:\n",
      "                            col_value = {col_name:df.ix[str(datetime.strptime(dates[date], \"%Y-%m-%d\") - timedelta(days=day-1)).strip(' 00:00:00'):dates[date]][tmp_names[name] + '_' + var_list[var]].mean()}\n",
      "                                                \n",
      "                    tmp_dict.update(col_value)\n",
      "                    col_value = {}\n",
      "                row_dict[row_key].update(tmp_dict)\n",
      "                stupid_dict.update(row_dict)\n",
      "    return pd.DataFrame.from_dict(stupid_dict)"
     ],
     "language": "python",
     "metadata": {},
     "outputs": [],
     "prompt_number": 10
    },
    {
     "cell_type": "code",
     "collapsed": false,
     "input": [
      "dates = ['2011-05-24','2011-06-29','2011-08-03','2011-09-10','2011-10-22']\n",
      "days = [1, 3, 7, 30]\n",
      "final_df = make_df(collapsed_df, dates, days)"
     ],
     "language": "python",
     "metadata": {},
     "outputs": [],
     "prompt_number": 11
    },
    {
     "cell_type": "code",
     "collapsed": false,
     "input": [
      "final_df.head()"
     ],
     "language": "python",
     "metadata": {},
     "outputs": [
      {
       "html": [
        "<div style=\"max-height:1000px;max-width:1500px;overflow:auto;\">\n",
        "<table border=\"1\" class=\"dataframe\">\n",
        "  <thead>\n",
        "    <tr style=\"text-align: right;\">\n",
        "      <th></th>\n",
        "      <th>AirTempMax_1</th>\n",
        "      <th>AirTempMax_3</th>\n",
        "      <th>AirTempMax_30</th>\n",
        "      <th>AirTempMax_7</th>\n",
        "      <th>AirTempMin_1</th>\n",
        "      <th>AirTempMin_3</th>\n",
        "      <th>AirTempMin_30</th>\n",
        "      <th>AirTempMin_7</th>\n",
        "      <th>AirTemp_1</th>\n",
        "      <th>AirTemp_3</th>\n",
        "      <th>...</th>\n",
        "      <th>SWC_30</th>\n",
        "      <th>SWC_7</th>\n",
        "      <th>SolarMax_1</th>\n",
        "      <th>SolarMax_3</th>\n",
        "      <th>SolarMax_30</th>\n",
        "      <th>SolarMax_7</th>\n",
        "      <th>Stemp_1</th>\n",
        "      <th>Stemp_3</th>\n",
        "      <th>Stemp_30</th>\n",
        "      <th>Stemp_7</th>\n",
        "    </tr>\n",
        "  </thead>\n",
        "  <tbody>\n",
        "    <tr>\n",
        "      <th>GL0</th>\n",
        "      <td> 21.81</td>\n",
        "      <td> 22.570000</td>\n",
        "      <td> 19.857000</td>\n",
        "      <td> 18.954286</td>\n",
        "      <td>  7.833</td>\n",
        "      <td> 10.911000</td>\n",
        "      <td>  6.446233</td>\n",
        "      <td>  7.674857</td>\n",
        "      <td> 15.538875</td>\n",
        "      <td> 17.040181</td>\n",
        "      <td>...</td>\n",
        "      <td> 0.103765</td>\n",
        "      <td> 0.131863</td>\n",
        "      <td> 0.998</td>\n",
        "      <td> 1.052000</td>\n",
        "      <td> 1.052600</td>\n",
        "      <td> 1.016143</td>\n",
        "      <td> 20.572083</td>\n",
        "      <td> 21.848611</td>\n",
        "      <td> 20.011715</td>\n",
        "      <td> 18.568827</td>\n",
        "    </tr>\n",
        "    <tr>\n",
        "      <th>GL1</th>\n",
        "      <td> 33.62</td>\n",
        "      <td> 34.553333</td>\n",
        "      <td> 29.964667</td>\n",
        "      <td> 34.125714</td>\n",
        "      <td> 21.830</td>\n",
        "      <td> 19.450000</td>\n",
        "      <td> 14.635267</td>\n",
        "      <td> 19.598571</td>\n",
        "      <td> 27.500833</td>\n",
        "      <td> 27.340556</td>\n",
        "      <td>...</td>\n",
        "      <td> 0.078651</td>\n",
        "      <td> 0.070524</td>\n",
        "      <td> 1.071</td>\n",
        "      <td> 1.110000</td>\n",
        "      <td> 1.103167</td>\n",
        "      <td> 1.107571</td>\n",
        "      <td> 33.615417</td>\n",
        "      <td> 33.664306</td>\n",
        "      <td> 30.213333</td>\n",
        "      <td> 33.692321</td>\n",
        "    </tr>\n",
        "    <tr>\n",
        "      <th>GL2</th>\n",
        "      <td> 30.73</td>\n",
        "      <td> 28.703333</td>\n",
        "      <td> 29.898667</td>\n",
        "      <td> 29.398571</td>\n",
        "      <td> 19.740</td>\n",
        "      <td> 18.016667</td>\n",
        "      <td> 18.206333</td>\n",
        "      <td> 18.985714</td>\n",
        "      <td> 24.691250</td>\n",
        "      <td> 23.401111</td>\n",
        "      <td>...</td>\n",
        "      <td> 0.142174</td>\n",
        "      <td> 0.150060</td>\n",
        "      <td> 0.914</td>\n",
        "      <td> 0.867000</td>\n",
        "      <td> 0.951133</td>\n",
        "      <td> 0.891857</td>\n",
        "      <td> 28.075833</td>\n",
        "      <td> 27.174306</td>\n",
        "      <td> 27.396958</td>\n",
        "      <td> 27.640952</td>\n",
        "    </tr>\n",
        "    <tr>\n",
        "      <th>GL3</th>\n",
        "      <td> 22.37</td>\n",
        "      <td> 24.293333</td>\n",
        "      <td> 30.543667</td>\n",
        "      <td> 26.171429</td>\n",
        "      <td> 10.260</td>\n",
        "      <td> 12.456667</td>\n",
        "      <td> 17.973000</td>\n",
        "      <td> 14.561429</td>\n",
        "      <td> 16.492083</td>\n",
        "      <td> 18.091944</td>\n",
        "      <td>...</td>\n",
        "      <td> 0.095218</td>\n",
        "      <td> 0.112833</td>\n",
        "      <td> 0.938</td>\n",
        "      <td> 0.944000</td>\n",
        "      <td> 0.909200</td>\n",
        "      <td> 0.859286</td>\n",
        "      <td> 22.030000</td>\n",
        "      <td> 23.305694</td>\n",
        "      <td> 28.902514</td>\n",
        "      <td> 24.372440</td>\n",
        "    </tr>\n",
        "    <tr>\n",
        "      <th>GL4</th>\n",
        "      <td> 22.78</td>\n",
        "      <td> 20.527619</td>\n",
        "      <td> 22.550000</td>\n",
        "      <td> 22.860000</td>\n",
        "      <td>  9.130</td>\n",
        "      <td>  6.535476</td>\n",
        "      <td>  8.364500</td>\n",
        "      <td>  8.012429</td>\n",
        "      <td> 15.798750</td>\n",
        "      <td> 13.587556</td>\n",
        "      <td>...</td>\n",
        "      <td> 0.117871</td>\n",
        "      <td> 0.105417</td>\n",
        "      <td> 0.744</td>\n",
        "      <td> 0.744667</td>\n",
        "      <td> 0.762033</td>\n",
        "      <td> 0.750714</td>\n",
        "      <td> 16.612875</td>\n",
        "      <td> 15.560933</td>\n",
        "      <td> 17.634000</td>\n",
        "      <td> 17.095214</td>\n",
        "    </tr>\n",
        "  </tbody>\n",
        "</table>\n",
        "<p>5 rows \u00d7 32 columns</p>\n",
        "</div>"
       ],
       "metadata": {},
       "output_type": "pyout",
       "prompt_number": 12,
       "text": [
        "     AirTempMax_1  AirTempMax_3  AirTempMax_30  AirTempMax_7  AirTempMin_1  \\\n",
        "GL0         21.81     22.570000      19.857000     18.954286         7.833   \n",
        "GL1         33.62     34.553333      29.964667     34.125714        21.830   \n",
        "GL2         30.73     28.703333      29.898667     29.398571        19.740   \n",
        "GL3         22.37     24.293333      30.543667     26.171429        10.260   \n",
        "GL4         22.78     20.527619      22.550000     22.860000         9.130   \n",
        "\n",
        "     AirTempMin_3  AirTempMin_30  AirTempMin_7  AirTemp_1  AirTemp_3  \\\n",
        "GL0     10.911000       6.446233      7.674857  15.538875  17.040181   \n",
        "GL1     19.450000      14.635267     19.598571  27.500833  27.340556   \n",
        "GL2     18.016667      18.206333     18.985714  24.691250  23.401111   \n",
        "GL3     12.456667      17.973000     14.561429  16.492083  18.091944   \n",
        "GL4      6.535476       8.364500      8.012429  15.798750  13.587556   \n",
        "\n",
        "       ...        SWC_30     SWC_7  SolarMax_1  SolarMax_3  SolarMax_30  \\\n",
        "GL0    ...      0.103765  0.131863       0.998    1.052000     1.052600   \n",
        "GL1    ...      0.078651  0.070524       1.071    1.110000     1.103167   \n",
        "GL2    ...      0.142174  0.150060       0.914    0.867000     0.951133   \n",
        "GL3    ...      0.095218  0.112833       0.938    0.944000     0.909200   \n",
        "GL4    ...      0.117871  0.105417       0.744    0.744667     0.762033   \n",
        "\n",
        "     SolarMax_7    Stemp_1    Stemp_3   Stemp_30    Stemp_7  \n",
        "GL0    1.016143  20.572083  21.848611  20.011715  18.568827  \n",
        "GL1    1.107571  33.615417  33.664306  30.213333  33.692321  \n",
        "GL2    0.891857  28.075833  27.174306  27.396958  27.640952  \n",
        "GL3    0.859286  22.030000  23.305694  28.902514  24.372440  \n",
        "GL4    0.750714  16.612875  15.560933  17.634000  17.095214  \n",
        "\n",
        "[5 rows x 32 columns]"
       ]
      }
     ],
     "prompt_number": 12
    },
    {
     "cell_type": "code",
     "collapsed": false,
     "input": [
      "time = []\n",
      "for i, row in final_df.iterrows():\n",
      "    time.append(i[-1:])\n",
      "final_df['Time'] = time"
     ],
     "language": "python",
     "metadata": {},
     "outputs": [],
     "prompt_number": 14
    },
    {
     "cell_type": "code",
     "collapsed": false,
     "input": [
      "final_df.to_csv('metrics_out_unfinished.csv')"
     ],
     "language": "python",
     "metadata": {},
     "outputs": [],
     "prompt_number": 15
    }
   ],
   "metadata": {}
  }
 ]
}